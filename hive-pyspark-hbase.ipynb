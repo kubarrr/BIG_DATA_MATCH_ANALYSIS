{
 "cells": [
  {
   "cell_type": "markdown",
   "id": "ae0f13b2-b51b-4836-9cf8-d9960d8ec1f5",
   "metadata": {},
   "source": [
    "## Inicjalizacja sparka"
   ]
  },
  {
   "cell_type": "code",
   "execution_count": 1,
   "id": "dbacc69f-7a32-4c8c-b7f0-6fd7c4c55057",
   "metadata": {},
   "outputs": [],
   "source": [
    "import findspark\n",
    "findspark.init()"
   ]
  },
  {
   "cell_type": "code",
   "execution_count": 2,
   "id": "a5a32ddb-9725-4bcc-bfbb-67be4c8cc52a",
   "metadata": {},
   "outputs": [],
   "source": [
    "from pyspark.sql import SparkSession"
   ]
  },
  {
   "cell_type": "code",
   "execution_count": 3,
   "id": "d98a0086-033a-4301-b761-f2ebbdd7c739",
   "metadata": {},
   "outputs": [
    {
     "name": "stderr",
     "output_type": "stream",
     "text": [
      "25/01/10 10:21:44 WARN util.Utils: Your hostname, node1 resolves to a loopback address: 127.0.0.1; using 10.0.2.15 instead (on interface enp0s3)\n",
      "25/01/10 10:21:44 WARN util.Utils: Set SPARK_LOCAL_IP if you need to bind to another address\n",
      "25/01/10 10:21:45 WARN util.NativeCodeLoader: Unable to load native-hadoop library for your platform... using builtin-java classes where applicable\n",
      "Setting default log level to \"WARN\".\n",
      "To adjust logging level use sc.setLogLevel(newLevel). For SparkR, use setLogLevel(newLevel).\n"
     ]
    }
   ],
   "source": [
    "from pyspark.sql import SparkSession\n",
    "spark = SparkSession.builder \\\n",
    "    .appName(\"hive_pyspark\") \\\n",
    "    .enableHiveSupport() \\\n",
    "    .getOrCreate()"
   ]
  },
  {
   "cell_type": "markdown",
   "id": "7c111f80-5a26-4616-a0f3-c7b57527ddf3",
   "metadata": {},
   "source": [
    "# UWAGA - ta część to pokazanie że udało nam się zapisać w NIFI w HIVE i wszytko działa, to nas już nie interesuje"
   ]
  },
  {
   "cell_type": "markdown",
   "id": "e9af43c0-c892-4957-8e33-eb86e03551c9",
   "metadata": {},
   "source": [
    "## Wczytanie danych z tabel Hive"
   ]
  },
  {
   "cell_type": "code",
   "execution_count": 4,
   "id": "ff3c4d6a-27b1-41a5-88d4-72d0f3ebf44f",
   "metadata": {},
   "outputs": [],
   "source": [
    "matches=spark.sql(f\"\"\"\n",
    "    SELECT * \n",
    "    FROM matches\n",
    "\"\"\")\n",
    "\n",
    "weather=spark.sql(f\"\"\"\n",
    "    SELECT * \n",
    "    FROM weather\n",
    "\"\"\")"
   ]
  },
  {
   "cell_type": "code",
   "execution_count": 5,
   "id": "54223423-773c-4d7d-a170-b042601aac9f",
   "metadata": {},
   "outputs": [
    {
     "name": "stdout",
     "output_type": "stream",
     "text": [
      "root\n",
      " |-- season: string (nullable = true)\n",
      " |-- date: string (nullable = true)\n",
      " |-- time: string (nullable = true)\n",
      " |-- round: integer (nullable = true)\n",
      " |-- attendance_value: double (nullable = true)\n",
      " |-- referee: string (nullable = true)\n",
      " |-- formation_home: string (nullable = true)\n",
      " |-- formation_away: string (nullable = true)\n",
      " |-- home_team: string (nullable = true)\n",
      " |-- away_team: string (nullable = true)\n",
      " |-- home_goals: integer (nullable = true)\n",
      " |-- home_shots: integer (nullable = true)\n",
      " |-- home_shots_on_target: integer (nullable = true)\n",
      " |-- home_passes_completed: integer (nullable = true)\n",
      " |-- home_passes: integer (nullable = true)\n",
      " |-- home_progressive_passes: integer (nullable = true)\n",
      " |-- home_passes_total_distance: double (nullable = true)\n",
      " |-- home_passes_progressive_distance: double (nullable = true)\n",
      " |-- home_passes_completed_short: integer (nullable = true)\n",
      " |-- home_passes_short: integer (nullable = true)\n",
      " |-- home_passes_completed_medium: integer (nullable = true)\n",
      " |-- home_passes_medium: integer (nullable = true)\n",
      " |-- home_passes_completed_long: integer (nullable = true)\n",
      " |-- home_passes_long: integer (nullable = true)\n",
      " |-- home_assisted_shots: integer (nullable = true)\n",
      " |-- home_passes_into_final_third: integer (nullable = true)\n",
      " |-- home_passes_into_penalty_area: integer (nullable = true)\n",
      " |-- home_passes_live: integer (nullable = true)\n",
      " |-- home_passes_dead: integer (nullable = true)\n",
      " |-- home_passes_free_kicks: integer (nullable = true)\n",
      " |-- home_passes_switches: integer (nullable = true)\n",
      " |-- home_passes_offsides: integer (nullable = true)\n",
      " |-- home_passes_blocked: integer (nullable = true)\n",
      " |-- home_blocked_shots: integer (nullable = true)\n",
      " |-- home_blocked_passes: integer (nullable = true)\n",
      " |-- home_passes_received: integer (nullable = true)\n",
      " |-- home_progressive_passes_received: integer (nullable = true)\n",
      " |-- home_own_goals: integer (nullable = true)\n",
      " |-- away_goals: integer (nullable = true)\n",
      " |-- away_shots: integer (nullable = true)\n",
      " |-- away_shots_on_target: integer (nullable = true)\n",
      " |-- away_passes_completed: integer (nullable = true)\n",
      " |-- away_passes: integer (nullable = true)\n",
      " |-- away_progressive_passes: integer (nullable = true)\n",
      " |-- away_passes_total_distance: double (nullable = true)\n",
      " |-- away_passes_progressive_distance: double (nullable = true)\n",
      " |-- away_passes_completed_short: integer (nullable = true)\n",
      " |-- away_passes_short: integer (nullable = true)\n",
      " |-- away_passes_completed_medium: integer (nullable = true)\n",
      " |-- away_passes_medium: integer (nullable = true)\n",
      " |-- away_passes_completed_long: integer (nullable = true)\n",
      " |-- away_passes_long: integer (nullable = true)\n",
      " |-- away_assisted_shots: integer (nullable = true)\n",
      " |-- away_passes_into_final_third: integer (nullable = true)\n",
      " |-- away_passes_into_penalty_area: integer (nullable = true)\n",
      " |-- away_passes_live: integer (nullable = true)\n",
      " |-- away_passes_dead: integer (nullable = true)\n",
      " |-- away_passes_free_kicks: integer (nullable = true)\n",
      " |-- away_passes_switches: integer (nullable = true)\n",
      " |-- away_passes_offsides: integer (nullable = true)\n",
      " |-- away_passes_blocked: integer (nullable = true)\n",
      " |-- away_blocked_shots: integer (nullable = true)\n",
      " |-- away_blocked_passes: integer (nullable = true)\n",
      " |-- away_passes_received: integer (nullable = true)\n",
      " |-- away_progressive_passes_received: integer (nullable = true)\n",
      " |-- away_own_goals: integer (nullable = true)\n",
      " |-- minute: integer (nullable = true)\n",
      " |-- latitude: double (nullable = true)\n",
      " |-- longitude: double (nullable = true)\n",
      "\n"
     ]
    }
   ],
   "source": [
    "matches.printSchema()"
   ]
  },
  {
   "cell_type": "code",
   "execution_count": 6,
   "id": "1da16cab-8308-40ac-8de5-6af9cb84f591",
   "metadata": {},
   "outputs": [
    {
     "name": "stderr",
     "output_type": "stream",
     "text": [
      "25/01/08 18:48:51 WARN util.package: Truncated the string representation of a plan since it was too large. This behavior can be adjusted by setting 'spark.sql.debug.maxToStringFields'.\n",
      "                                                                                "
     ]
    },
    {
     "name": "stdout",
     "output_type": "stream",
     "text": [
      "+---------+----------+------+---------+---------------+----------+----------+\n",
      "|   season|      date|minute|home_team|      away_team|home_goals|away_goals|\n",
      "+---------+----------+------+---------+---------------+----------+----------+\n",
      "|2023-2024|2023-08-11|     1|  Burnley|Manchester City|         0|         1|\n",
      "|2023-2024|2023-08-11|     2|  Burnley|Manchester City|         0|         1|\n",
      "|2023-2024|2023-08-11|     3|  Burnley|Manchester City|         0|         1|\n",
      "|2023-2024|2023-08-11|     4|  Burnley|Manchester City|         0|         1|\n",
      "|2023-2024|2023-08-11|     5|  Burnley|Manchester City|         0|         1|\n",
      "+---------+----------+------+---------+---------------+----------+----------+\n",
      "only showing top 5 rows\n",
      "\n"
     ]
    }
   ],
   "source": [
    "matches.select(\"season\", \"date\", \"minute\", \"home_team\", \"away_team\", \"home_goals\", \"away_goals\").show(5)"
   ]
  },
  {
   "cell_type": "code",
   "execution_count": 7,
   "id": "9fd3095a-1203-45fc-b44e-6d3c87b60af0",
   "metadata": {},
   "outputs": [
    {
     "name": "stdout",
     "output_type": "stream",
     "text": [
      "root\n",
      " |-- latitude: double (nullable = true)\n",
      " |-- longitude: double (nullable = true)\n",
      " |-- generationtime_ms: double (nullable = true)\n",
      " |-- utc_offset_seconds: integer (nullable = true)\n",
      " |-- timezone: string (nullable = true)\n",
      " |-- timezone_abbreviation: string (nullable = true)\n",
      " |-- elevation: double (nullable = true)\n",
      " |-- current_time: string (nullable = true)\n",
      " |-- current_interval: integer (nullable = true)\n",
      " |-- current_temperature_2m: double (nullable = true)\n",
      " |-- current_wind_speed_10m: double (nullable = true)\n",
      " |-- current_precipitation: double (nullable = true)\n",
      " |-- current_relative_humidity_2m: integer (nullable = true)\n",
      " |-- current_cloud_cover: integer (nullable = true)\n",
      "\n"
     ]
    }
   ],
   "source": [
    "weather.printSchema()"
   ]
  },
  {
   "cell_type": "code",
   "execution_count": 8,
   "id": "71320a87-301c-4b22-8e4d-7c4ac2973ef0",
   "metadata": {},
   "outputs": [
    {
     "name": "stdout",
     "output_type": "stream",
     "text": [
      "+---------+------------+--------------------+------------------+--------+---------------------+---------+----------------+----------------+----------------------+----------------------+---------------------+----------------------------+-------------------+\n",
      "| latitude|   longitude|   generationtime_ms|utc_offset_seconds|timezone|timezone_abbreviation|elevation|    current_time|current_interval|current_temperature_2m|current_wind_speed_10m|current_precipitation|current_relative_humidity_2m|current_cloud_cover|\n",
      "+---------+------------+--------------------+------------------+--------+---------------------+---------+----------------+----------------+----------------------+----------------------+---------------------+----------------------------+-------------------+\n",
      "|     51.5|-0.120000124| 0.04398822784423828|                 0|     GMT|                  GMT|     17.0|2024-12-15T11:45|             900|                  10.5|                  11.8|                  0.0|                          90|                 91|\n",
      "|53.302002|       2.204|0.024080276489257812|                 0|     GMT|                  GMT|      0.0|2024-12-15T11:45|             900|                   9.4|                  42.1|                  0.0|                          97|                100|\n",
      "|     51.5|-0.120000124| 0.06091594696044922|                 0|     GMT|                  GMT|     17.0|2024-12-15T12:00|             900|                  10.6|                  12.1|                  0.0|                          89|                 98|\n",
      "|53.302002|       2.204| 0.03600120544433594|                 0|     GMT|                  GMT|      0.0|2024-12-15T12:00|             900|                   9.4|                  43.2|                  0.0|                          97|                100|\n",
      "|     51.5|-0.120000124| 0.03898143768310547|                 0|     GMT|                  GMT|     17.0|2024-12-15T12:30|             900|                  10.9|                  12.6|                  0.0|                          88|                 98|\n",
      "+---------+------------+--------------------+------------------+--------+---------------------+---------+----------------+----------------+----------------------+----------------------+---------------------+----------------------------+-------------------+\n",
      "\n"
     ]
    }
   ],
   "source": [
    "weather.show(5)"
   ]
  },
  {
   "cell_type": "markdown",
   "id": "46cb839a-bf03-4a10-85e5-b8e4657e7844",
   "metadata": {},
   "source": [
    "## Przetwarzanie danych pogodowych"
   ]
  },
  {
   "cell_type": "code",
   "execution_count": 9,
   "id": "9e86a577-ec5a-4973-b1de-e7fa133c573d",
   "metadata": {},
   "outputs": [],
   "source": [
    "from pyspark.sql import functions as F\n",
    "\n",
    "transformed_weather = weather.select(\n",
    "    F.date_format(F.col('current_time'), 'yyyy-MM-dd').alias('date'),\n",
    "    F.date_format(F.col('current_time'), 'HH:mm').alias('time'),\n",
    "    F.col('longitude'),\n",
    "    F.col('latitude'),\n",
    "    F.col('current_temperature_2m').alias('weather_temperature'),\n",
    "    F.col('current_precipitation').alias('weather_precipitation'),\n",
    "    F.col('current_wind_speed_10m').alias('weather_wind'),\n",
    "    F.col('current_relative_humidity_2m').alias('weather_humidity'),\n",
    "    F.col('current_cloud_cover').alias('weather_cloud_cover')\n",
    ")"
   ]
  },
  {
   "cell_type": "code",
   "execution_count": 10,
   "id": "8cec5067-90f1-43da-b833-74c0f89651bd",
   "metadata": {},
   "outputs": [
    {
     "name": "stdout",
     "output_type": "stream",
     "text": [
      "+----------+-----+------------+---------+-------------------+---------------------+------------+----------------+-------------------+\n",
      "|      date| time|   longitude| latitude|weather_temperature|weather_precipitation|weather_wind|weather_humidity|weather_cloud_cover|\n",
      "+----------+-----+------------+---------+-------------------+---------------------+------------+----------------+-------------------+\n",
      "|2024-12-15|11:45|-0.120000124|     51.5|               10.5|                  0.0|        11.8|              90|                 91|\n",
      "|2024-12-15|11:45|       2.204|53.302002|                9.4|                  0.0|        42.1|              97|                100|\n",
      "|2024-12-15|12:00|-0.120000124|     51.5|               10.6|                  0.0|        12.1|              89|                 98|\n",
      "|2024-12-15|12:00|       2.204|53.302002|                9.4|                  0.0|        43.2|              97|                100|\n",
      "|2024-12-15|12:30|-0.120000124|     51.5|               10.9|                  0.0|        12.6|              88|                 98|\n",
      "+----------+-----+------------+---------+-------------------+---------------------+------------+----------------+-------------------+\n",
      "\n"
     ]
    }
   ],
   "source": [
    "transformed_weather.show(5)"
   ]
  },
  {
   "cell_type": "markdown",
   "id": "d43d98e4-ffdb-4f72-a2da-75bfc352207d",
   "metadata": {},
   "source": [
    "# UWAGA - to część łączenia meczy z pogodą i zapisu do HIVE, trzeba wczytać pliki csv, które wysłałem na msg z byle jakiego folderu z HDFS"
   ]
  },
  {
   "cell_type": "markdown",
   "id": "c6ee5e19-1051-4e87-b880-08bd1f3eb12e",
   "metadata": {},
   "source": [
    "Nie mogliśmy pobrać tylu danych pogodowych za pomocą API w NIFI, dlatego sztucznie je uzupełnimy. Podobnie załadowaliśmy w NIFI kilka porcji danych z jednego sezonu Premier League, tutaj dołączymy dane z czterach kolejnych sezonów. Oczywiście tak jak zaprezentowaliśmy powyżej, wszytko działa w NIFI i gdyby spędzić nad tym wystarczająco dużo czasu można uzyskać dane, które tu sztucznie wczytujemy."
   ]
  },
  {
   "cell_type": "code",
   "execution_count": 22,
   "id": "f943a2f8-15af-45c0-b1cf-662bd8351460",
   "metadata": {},
   "outputs": [
    {
     "name": "stderr",
     "output_type": "stream",
     "text": [
      "                                                                                \r"
     ]
    }
   ],
   "source": [
    "updated_matches = spark.read.option(\"header\",\"true\").option(\"inferschema\",\"true\").csv(\"hdfs://localhost:8020/user/mati_proj/simulated_matches_final.csv\")\n",
    "updated_weather = spark.read.option(\"header\",\"true\").option(\"inferschema\",\"true\").csv(\"hdfs://localhost:8020/user/mati_proj/weather_for_matches.csv\")"
   ]
  },
  {
   "cell_type": "code",
   "execution_count": 23,
   "id": "e43751d2-c2ea-41fa-8ed1-62d63c8c5e51",
   "metadata": {},
   "outputs": [
    {
     "name": "stdout",
     "output_type": "stream",
     "text": [
      "+---------+----------+-----+---------+--------+------+---------+---------------+----------+----------+\n",
      "|   season|      date| time|longitude|latitude|minute|home_team|      away_team|home_goals|away_goals|\n",
      "+---------+----------+-----+---------+--------+------+---------+---------------+----------+----------+\n",
      "|2023-2024|2023-08-11|20:00|    -2.23| 53.7899|     1|  Burnley|Manchester City|         0|         1|\n",
      "|2023-2024|2023-08-11|20:00|    -2.23| 53.7899|     2|  Burnley|Manchester City|         0|         1|\n",
      "|2023-2024|2023-08-11|20:00|    -2.23| 53.7899|     3|  Burnley|Manchester City|         0|         1|\n",
      "|2023-2024|2023-08-11|20:00|    -2.23| 53.7899|     4|  Burnley|Manchester City|         0|         1|\n",
      "|2023-2024|2023-08-11|20:00|    -2.23| 53.7899|     5|  Burnley|Manchester City|         0|         1|\n",
      "+---------+----------+-----+---------+--------+------+---------+---------------+----------+----------+\n",
      "only showing top 5 rows\n",
      "\n"
     ]
    }
   ],
   "source": [
    "updated_matches.select(\"season\", \"date\", \"time\", \"longitude\", \"latitude\", \"minute\", \"home_team\", \"away_team\", \"home_goals\", \"away_goals\").show(5)"
   ]
  },
  {
   "cell_type": "code",
   "execution_count": 24,
   "id": "eb6c1238-7466-4b83-add2-c2b2892537af",
   "metadata": {
    "scrolled": true
   },
   "outputs": [
    {
     "name": "stdout",
     "output_type": "stream",
     "text": [
      "+----------+-----+---------+--------+-------------------+---------------------+------------+----------------+-------------------+\n",
      "|      date| time|longitude|latitude|weather_temperature|weather_precipitation|weather_wind|weather_humidity|weather_cloud_cover|\n",
      "+----------+-----+---------+--------+-------------------+---------------------+------------+----------------+-------------------+\n",
      "|2023-08-11|20:00|    -2.23| 53.7899|               17.0|                  0.0|        13.7|              70|                 14|\n",
      "|2023-08-12|12:30|  -0.1086|  51.555|               19.5|                  0.2|        29.6|              68|                 45|\n",
      "|2023-08-12|15:00|  -2.9662| 53.4388|               19.9|                  0.1|        28.6|              64|                 28|\n",
      "|2023-08-12|15:00|  -1.4714| 53.3703|               20.1|                  0.0|        27.0|              69|                 30|\n",
      "|2023-08-12|15:00|  -0.0837| 50.8616|               17.6|                  0.1|        34.0|              82|                 97|\n",
      "+----------+-----+---------+--------+-------------------+---------------------+------------+----------------+-------------------+\n",
      "only showing top 5 rows\n",
      "\n"
     ]
    }
   ],
   "source": [
    "updated_weather.show(5)"
   ]
  },
  {
   "cell_type": "code",
   "execution_count": 25,
   "id": "f2df8cb7-b899-4490-9e87-60375d6064ba",
   "metadata": {},
   "outputs": [],
   "source": [
    "updated_matches = updated_matches.withColumnRenamed('date', 'match_date') \\\n",
    "                                 .withColumnRenamed('time', 'match_time') \\\n",
    "                                 .withColumnRenamed('longitude', 'match_longitude') \\\n",
    "                                 .withColumnRenamed('latitude', 'match_latitude')\n",
    "\n",
    "updated_weather = updated_weather.withColumnRenamed('date', 'weather_date') \\\n",
    "                                 .withColumnRenamed('time', 'weather_time') \\\n",
    "                                 .withColumnRenamed('longitude', 'weather_longitude') \\\n",
    "                                 .withColumnRenamed('latitude', 'weather_latitude')\n",
    "\n",
    "matches_with_weather = updated_matches.join(\n",
    "    updated_weather,\n",
    "    (updated_matches['match_date'] == updated_weather['weather_date']) &\n",
    "    (updated_matches['match_time'] == updated_weather['weather_time']) &\n",
    "    (updated_matches['match_longitude'] == updated_weather['weather_longitude']) &\n",
    "    (updated_matches['match_latitude'] == updated_weather['weather_latitude']),\n",
    "    'inner'\n",
    ")"
   ]
  },
  {
   "cell_type": "code",
   "execution_count": 26,
   "id": "2c0ece6d-38f1-4d4e-9db9-ff7a68964214",
   "metadata": {},
   "outputs": [],
   "source": [
    "matches_with_weather = matches_with_weather.drop('weather_date', 'weather_time', 'weather_longitude', 'weather_latitude')"
   ]
  },
  {
   "cell_type": "code",
   "execution_count": 27,
   "id": "858a853b-282e-446b-89bf-12c3654a46c0",
   "metadata": {},
   "outputs": [
    {
     "name": "stdout",
     "output_type": "stream",
     "text": [
      "root\n",
      " |-- season: string (nullable = true)\n",
      " |-- match_date: string (nullable = true)\n",
      " |-- match_time: string (nullable = true)\n",
      " |-- round: integer (nullable = true)\n",
      " |-- attendance_value: double (nullable = true)\n",
      " |-- referee: string (nullable = true)\n",
      " |-- formation_home: string (nullable = true)\n",
      " |-- formation_away: string (nullable = true)\n",
      " |-- home_team: string (nullable = true)\n",
      " |-- away_team: string (nullable = true)\n",
      " |-- home_goals: integer (nullable = true)\n",
      " |-- home_shots: integer (nullable = true)\n",
      " |-- home_shots_on_target: integer (nullable = true)\n",
      " |-- home_passes_completed: integer (nullable = true)\n",
      " |-- home_passes: integer (nullable = true)\n",
      " |-- home_progressive_passes: integer (nullable = true)\n",
      " |-- home_passes_total_distance: integer (nullable = true)\n",
      " |-- home_passes_progressive_distance: integer (nullable = true)\n",
      " |-- home_passes_completed_short: integer (nullable = true)\n",
      " |-- home_passes_short: integer (nullable = true)\n",
      " |-- home_passes_completed_medium: integer (nullable = true)\n",
      " |-- home_passes_medium: integer (nullable = true)\n",
      " |-- home_passes_completed_long: integer (nullable = true)\n",
      " |-- home_passes_long: integer (nullable = true)\n",
      " |-- home_assisted_shots: integer (nullable = true)\n",
      " |-- home_passes_into_final_third: integer (nullable = true)\n",
      " |-- home_passes_into_penalty_area: integer (nullable = true)\n",
      " |-- home_passes_live: integer (nullable = true)\n",
      " |-- home_passes_dead: integer (nullable = true)\n",
      " |-- home_passes_free_kicks: integer (nullable = true)\n",
      " |-- home_passes_switches: integer (nullable = true)\n",
      " |-- home_passes_offsides: integer (nullable = true)\n",
      " |-- home_passes_blocked: integer (nullable = true)\n",
      " |-- home_blocked_shots: integer (nullable = true)\n",
      " |-- home_blocked_passes: integer (nullable = true)\n",
      " |-- home_passes_received: integer (nullable = true)\n",
      " |-- home_progressive_passes_received: integer (nullable = true)\n",
      " |-- home_own_goals: integer (nullable = true)\n",
      " |-- away_goals: integer (nullable = true)\n",
      " |-- away_shots: integer (nullable = true)\n",
      " |-- away_shots_on_target: integer (nullable = true)\n",
      " |-- away_passes_completed: integer (nullable = true)\n",
      " |-- away_passes: integer (nullable = true)\n",
      " |-- away_progressive_passes: integer (nullable = true)\n",
      " |-- away_passes_total_distance: integer (nullable = true)\n",
      " |-- away_passes_progressive_distance: integer (nullable = true)\n",
      " |-- away_passes_completed_short: integer (nullable = true)\n",
      " |-- away_passes_short: integer (nullable = true)\n",
      " |-- away_passes_completed_medium: integer (nullable = true)\n",
      " |-- away_passes_medium: integer (nullable = true)\n",
      " |-- away_passes_completed_long: integer (nullable = true)\n",
      " |-- away_passes_long: integer (nullable = true)\n",
      " |-- away_assisted_shots: integer (nullable = true)\n",
      " |-- away_passes_into_final_third: integer (nullable = true)\n",
      " |-- away_passes_into_penalty_area: integer (nullable = true)\n",
      " |-- away_passes_live: integer (nullable = true)\n",
      " |-- away_passes_dead: integer (nullable = true)\n",
      " |-- away_passes_free_kicks: integer (nullable = true)\n",
      " |-- away_passes_switches: integer (nullable = true)\n",
      " |-- away_passes_offsides: integer (nullable = true)\n",
      " |-- away_passes_blocked: integer (nullable = true)\n",
      " |-- away_blocked_shots: integer (nullable = true)\n",
      " |-- away_blocked_passes: integer (nullable = true)\n",
      " |-- away_passes_received: integer (nullable = true)\n",
      " |-- away_progressive_passes_received: integer (nullable = true)\n",
      " |-- away_own_goals: integer (nullable = true)\n",
      " |-- minute: integer (nullable = true)\n",
      " |-- match_latitude: double (nullable = true)\n",
      " |-- match_longitude: double (nullable = true)\n",
      " |-- weather_temperature: double (nullable = true)\n",
      " |-- weather_precipitation: double (nullable = true)\n",
      " |-- weather_wind: double (nullable = true)\n",
      " |-- weather_humidity: integer (nullable = true)\n",
      " |-- weather_cloud_cover: integer (nullable = true)\n",
      "\n"
     ]
    }
   ],
   "source": [
    "matches_with_weather.printSchema()"
   ]
  },
  {
   "cell_type": "code",
   "execution_count": 28,
   "id": "e9a09866-4498-4870-8244-97af87cc513e",
   "metadata": {},
   "outputs": [
    {
     "name": "stdout",
     "output_type": "stream",
     "text": [
      "+---------+----------+----------+------+---------+---------------+----------+----------+-------------------+---------------------+------------+----------------+-------------------+\n",
      "|   season|match_date|match_time|minute|home_team|      away_team|home_goals|away_goals|weather_temperature|weather_precipitation|weather_wind|weather_humidity|weather_cloud_cover|\n",
      "+---------+----------+----------+------+---------+---------------+----------+----------+-------------------+---------------------+------------+----------------+-------------------+\n",
      "|2023-2024|2023-08-11|     20:00|     1|  Burnley|Manchester City|         0|         1|               17.0|                  0.0|        13.7|              70|                 14|\n",
      "|2023-2024|2023-08-11|     20:00|     2|  Burnley|Manchester City|         0|         1|               17.0|                  0.0|        13.7|              70|                 14|\n",
      "|2023-2024|2023-08-11|     20:00|     3|  Burnley|Manchester City|         0|         1|               17.0|                  0.0|        13.7|              70|                 14|\n",
      "|2023-2024|2023-08-11|     20:00|     4|  Burnley|Manchester City|         0|         1|               17.0|                  0.0|        13.7|              70|                 14|\n",
      "|2023-2024|2023-08-11|     20:00|     5|  Burnley|Manchester City|         0|         1|               17.0|                  0.0|        13.7|              70|                 14|\n",
      "+---------+----------+----------+------+---------+---------------+----------+----------+-------------------+---------------------+------------+----------------+-------------------+\n",
      "only showing top 5 rows\n",
      "\n"
     ]
    }
   ],
   "source": [
    "matches_with_weather.select(\"season\", \"match_date\", \"match_time\", \"minute\", \"home_team\", \"away_team\", \"home_goals\", \"away_goals\", \"weather_temperature\",\"weather_precipitation\",\"weather_wind\",\"weather_humidity\", \"weather_cloud_cover\").show(5)"
   ]
  },
  {
   "cell_type": "code",
   "execution_count": 29,
   "id": "213b83d8-992e-464a-8056-e9d2b8aeb7a4",
   "metadata": {},
   "outputs": [],
   "source": [
    "import happybase"
   ]
  },
  {
   "cell_type": "code",
   "execution_count": 30,
   "id": "7e43754b-03af-4524-8b74-92c231ccade3",
   "metadata": {},
   "outputs": [],
   "source": [
    "matchesFamilies = {\n",
    "    'season': 'match_info',\n",
    "    'match_date': 'match_info',\n",
    "    'match_time': 'match_info',\n",
    "    'round': 'match_info',\n",
    "    'attendance_value': 'match_info',\n",
    "    'referee': 'match_info',\n",
    "    'formation_home': 'team_info',\n",
    "    'formation_away': 'team_info',\n",
    "    'home_team': 'team_info',\n",
    "    'away_team': 'team_info',\n",
    "    'home_goals': 'stats',\n",
    "    'away_goals': 'stats',\n",
    "    'home_shots': 'stats',\n",
    "    'away_shots': 'stats',\n",
    "    'home_shots_on_target': 'stats',\n",
    "    'away_shots_on_target': 'stats',\n",
    "    'home_passes_completed': 'stats',\n",
    "    'away_passes_completed': 'stats',\n",
    "    'home_passes': 'stats',\n",
    "    'away_passes': 'stats',\n",
    "    'home_progressive_passes': 'stats',\n",
    "    'away_progressive_passes': 'stats',\n",
    "    'home_passes_total_distance': 'stats',\n",
    "    'away_passes_total_distance': 'stats',\n",
    "    'home_passes_progressive_distance': 'stats',\n",
    "    'away_passes_progressive_distance': 'stats',\n",
    "    'home_assisted_shots': 'stats',\n",
    "    'away_assisted_shots': 'stats',\n",
    "    'home_passes_into_final_third': 'stats',\n",
    "    'away_passes_into_final_third': 'stats',\n",
    "    'home_passes_into_penalty_area': 'stats',\n",
    "    'away_passes_into_penalty_area': 'stats',\n",
    "    'home_own_goals': 'stats',\n",
    "    'away_own_goals': 'stats',\n",
    "    'minute': 'match_timeline',\n",
    "    'match_latitude': 'location',\n",
    "    'match_longitude': 'location',\n",
    "    'weather_temperature': 'weather',\n",
    "    'weather_precipitation': 'weather',\n",
    "    'weather_wind': 'weather',\n",
    "    'weather_humidity': 'weather',\n",
    "    'weather_cloud_cover': 'weather'\n",
    "}"
   ]
  },
  {
   "cell_type": "code",
   "execution_count": 70,
   "id": "3375353e-cc41-49b6-92c8-0b56247bb1ac",
   "metadata": {},
   "outputs": [],
   "source": [
    "connection = happybase.Connection('localhost')\n",
    "connection.open()"
   ]
  },
  {
   "cell_type": "markdown",
   "id": "460a8b21-2261-4ba8-90ce-807edf2932bc",
   "metadata": {},
   "source": [
    "# UWAGA - i to mi nie działa, myślę że powinno być ok jeśli Wam działa Hbase"
   ]
  },
  {
   "cell_type": "code",
   "execution_count": 32,
   "id": "8973027d-7efd-4c06-8031-cc7844d0284d",
   "metadata": {},
   "outputs": [],
   "source": [
    "import uuid"
   ]
  },
  {
   "cell_type": "code",
   "execution_count": 33,
   "id": "7859c43b-8a3e-4ed2-8b39-bd9b13c74bd7",
   "metadata": {
    "scrolled": true
   },
   "outputs": [
    {
     "ename": "AlreadyExists",
     "evalue": "AlreadyExists(message=b'table name already in use')",
     "output_type": "error",
     "traceback": [
      "\u001b[0;31m---------------------------------------------------------------------------\u001b[0m",
      "\u001b[0;31mAlreadyExists\u001b[0m                             Traceback (most recent call last)",
      "Cell \u001b[0;32mIn[33], line 10\u001b[0m\n\u001b[1;32m      1\u001b[0m col_families \u001b[38;5;241m=\u001b[39m {\n\u001b[1;32m      2\u001b[0m     \u001b[38;5;124m'\u001b[39m\u001b[38;5;124mmatch_info\u001b[39m\u001b[38;5;124m'\u001b[39m: \u001b[38;5;28mdict\u001b[39m(),\n\u001b[1;32m      3\u001b[0m     \u001b[38;5;124m'\u001b[39m\u001b[38;5;124mteam_info\u001b[39m\u001b[38;5;124m'\u001b[39m: \u001b[38;5;28mdict\u001b[39m(),\n\u001b[0;32m   (...)\u001b[0m\n\u001b[1;32m      7\u001b[0m     \u001b[38;5;124m'\u001b[39m\u001b[38;5;124mweather\u001b[39m\u001b[38;5;124m'\u001b[39m: \u001b[38;5;28mdict\u001b[39m()\n\u001b[1;32m      8\u001b[0m }\n\u001b[0;32m---> 10\u001b[0m \u001b[43mconnection\u001b[49m\u001b[38;5;241;43m.\u001b[39;49m\u001b[43mcreate_table\u001b[49m\u001b[43m(\u001b[49m\u001b[38;5;124;43m'\u001b[39;49m\u001b[38;5;124;43mmatches_data\u001b[39;49m\u001b[38;5;124;43m'\u001b[39;49m\u001b[43m,\u001b[49m\u001b[43m \u001b[49m\u001b[43mcol_families\u001b[49m\u001b[43m)\u001b[49m\n",
      "File \u001b[0;32m~/.local/lib/python3.9/site-packages/happybase/connection.py:309\u001b[0m, in \u001b[0;36mConnection.create_table\u001b[0;34m(self, name, families)\u001b[0m\n\u001b[1;32m    305\u001b[0m     kwargs[\u001b[38;5;124m'\u001b[39m\u001b[38;5;124mname\u001b[39m\u001b[38;5;124m'\u001b[39m] \u001b[38;5;241m=\u001b[39m cf_name\n\u001b[1;32m    307\u001b[0m     column_descriptors\u001b[38;5;241m.\u001b[39mappend(ColumnDescriptor(\u001b[38;5;241m*\u001b[39m\u001b[38;5;241m*\u001b[39mkwargs))\n\u001b[0;32m--> 309\u001b[0m \u001b[38;5;28;43mself\u001b[39;49m\u001b[38;5;241;43m.\u001b[39;49m\u001b[43mclient\u001b[49m\u001b[38;5;241;43m.\u001b[39;49m\u001b[43mcreateTable\u001b[49m\u001b[43m(\u001b[49m\u001b[43mname\u001b[49m\u001b[43m,\u001b[49m\u001b[43m \u001b[49m\u001b[43mcolumn_descriptors\u001b[49m\u001b[43m)\u001b[49m\n",
      "File \u001b[0;32m~/.local/lib/python3.9/site-packages/thriftpy2/thrift.py:214\u001b[0m, in \u001b[0;36mTClient._req\u001b[0;34m(self, _api, *args, **kwargs)\u001b[0m\n\u001b[1;32m    212\u001b[0m \u001b[38;5;66;03m# wait result only if non-oneway\u001b[39;00m\n\u001b[1;32m    213\u001b[0m \u001b[38;5;28;01mif\u001b[39;00m \u001b[38;5;129;01mnot\u001b[39;00m \u001b[38;5;28mgetattr\u001b[39m(result_cls, \u001b[38;5;124m\"\u001b[39m\u001b[38;5;124moneway\u001b[39m\u001b[38;5;124m\"\u001b[39m):\n\u001b[0;32m--> 214\u001b[0m     \u001b[38;5;28;01mreturn\u001b[39;00m \u001b[38;5;28;43mself\u001b[39;49m\u001b[38;5;241;43m.\u001b[39;49m\u001b[43m_recv\u001b[49m\u001b[43m(\u001b[49m\u001b[43m_api\u001b[49m\u001b[43m)\u001b[49m\n",
      "File \u001b[0;32m~/.local/lib/python3.9/site-packages/thriftpy2/thrift.py:248\u001b[0m, in \u001b[0;36mTClient._recv\u001b[0;34m(self, _api)\u001b[0m\n\u001b[1;32m    246\u001b[0m \u001b[38;5;28;01mfor\u001b[39;00m k, v \u001b[38;5;129;01min\u001b[39;00m result\u001b[38;5;241m.\u001b[39m\u001b[38;5;18m__dict__\u001b[39m\u001b[38;5;241m.\u001b[39mitems():\n\u001b[1;32m    247\u001b[0m     \u001b[38;5;28;01mif\u001b[39;00m k \u001b[38;5;241m!=\u001b[39m \u001b[38;5;124m\"\u001b[39m\u001b[38;5;124msuccess\u001b[39m\u001b[38;5;124m\"\u001b[39m \u001b[38;5;129;01mand\u001b[39;00m v:\n\u001b[0;32m--> 248\u001b[0m         \u001b[38;5;28;01mraise\u001b[39;00m v\n\u001b[1;32m    250\u001b[0m \u001b[38;5;66;03m# no throws & not void api\u001b[39;00m\n\u001b[1;32m    251\u001b[0m \u001b[38;5;28;01mif\u001b[39;00m \u001b[38;5;28mhasattr\u001b[39m(result, \u001b[38;5;124m\"\u001b[39m\u001b[38;5;124msuccess\u001b[39m\u001b[38;5;124m\"\u001b[39m):\n",
      "\u001b[0;31mAlreadyExists\u001b[0m: AlreadyExists(message=b'table name already in use')"
     ]
    }
   ],
   "source": [
    "col_families = {\n",
    "    'match_info': dict(),\n",
    "    'team_info': dict(),\n",
    "    'stats': dict(),\n",
    "    'match_timeline': dict(),\n",
    "    'location': dict(),\n",
    "    'weather': dict()\n",
    "}\n",
    "\n",
    "connection.create_table('matches_data', col_families)"
   ]
  },
  {
   "cell_type": "code",
   "execution_count": 41,
   "id": "78eeb58c-3d19-45bb-9d4b-87f00592b3d3",
   "metadata": {},
   "outputs": [
    {
     "data": {
      "text/plain": [
       "DataFrame[season: string, match_date: string, match_time: string, round: int, attendance_value: double, referee: string, formation_home: string, formation_away: string, home_team: string, away_team: string, home_goals: int, home_shots: int, home_shots_on_target: int, home_passes_completed: int, home_passes: int, home_progressive_passes: int, home_passes_total_distance: int, home_passes_progressive_distance: int, home_passes_completed_short: int, home_passes_short: int, home_passes_completed_medium: int, home_passes_medium: int, home_passes_completed_long: int, home_passes_long: int, home_assisted_shots: int, home_passes_into_final_third: int, home_passes_into_penalty_area: int, home_passes_live: int, home_passes_dead: int, home_passes_free_kicks: int, home_passes_switches: int, home_passes_offsides: int, home_passes_blocked: int, home_blocked_shots: int, home_blocked_passes: int, home_passes_received: int, home_progressive_passes_received: int, home_own_goals: int, away_goals: int, away_shots: int, away_shots_on_target: int, away_passes_completed: int, away_passes: int, away_progressive_passes: int, away_passes_total_distance: int, away_passes_progressive_distance: int, away_passes_completed_short: int, away_passes_short: int, away_passes_completed_medium: int, away_passes_medium: int, away_passes_completed_long: int, away_passes_long: int, away_assisted_shots: int, away_passes_into_final_third: int, away_passes_into_penalty_area: int, away_passes_live: int, away_passes_dead: int, away_passes_free_kicks: int, away_passes_switches: int, away_passes_offsides: int, away_passes_blocked: int, away_blocked_shots: int, away_blocked_passes: int, away_passes_received: int, away_progressive_passes_received: int, away_own_goals: int, minute: int, match_latitude: double, match_longitude: double, weather_temperature: double, weather_precipitation: double, weather_wind: double, weather_humidity: int, weather_cloud_cover: int]"
      ]
     },
     "execution_count": 41,
     "metadata": {},
     "output_type": "execute_result"
    }
   ],
   "source": [
    "matches_with_weather.limit(1)"
   ]
  },
  {
   "cell_type": "code",
   "execution_count": 36,
   "id": "476d6b96-7b04-4605-a6a6-fa9905babf6f",
   "metadata": {},
   "outputs": [],
   "source": [
    "def save_hbase(dataframe, target_table, column_family_mapping, hbase_connection):\n",
    "    table = hbase_connection.table(target_table)\n",
    "    rdd_data = dataframe.rdd\n",
    "    for row in rdd_data.collect():\n",
    "        row_key = str(uuid.uuid4())\n",
    "        row_data = {}\n",
    "        \n",
    "        for column, value in zip(dataframe.columns, row):\n",
    "            if column in column_family_mapping:\n",
    "                family = column_family_mapping[column]\n",
    "                row_data[f\"{family}:{column}\"] = str(value)\n",
    "        \n",
    "        table.put(row_key, row_data)\n"
   ]
  },
  {
   "cell_type": "code",
   "execution_count": 50,
   "id": "87483fc4-4c7d-40eb-9eb9-75574b54df1a",
   "metadata": {},
   "outputs": [],
   "source": [
    "save_hbase(matches_with_weather, 'matches_data', matchesFamilies, connection)"
   ]
  },
  {
   "cell_type": "markdown",
   "id": "03e031b0-474c-4523-b12d-5b1fb2ae7e53",
   "metadata": {},
   "source": [
    "# UWAGA - tu póżniej trzeba je odczytać i zrrobić już wykresy albo ewentaulnie chyba można zrobic wykresy na podstawie już wcześniejszyc csv jakby był problem z odczytaniem"
   ]
  },
  {
   "cell_type": "code",
   "execution_count": 71,
   "id": "40fcb1d0-40d8-4246-b971-e524f7b4799a",
   "metadata": {},
   "outputs": [],
   "source": [
    "table = connection.table('matches_data')"
   ]
  },
  {
   "cell_type": "code",
   "execution_count": 65,
   "id": "1643634e-35cd-4dd5-9f53-5a3e45738f43",
   "metadata": {},
   "outputs": [],
   "source": [
    "# table = connection.table('matches_data')\n",
    "# for key, data in table.scan():\n",
    "#     print(f'KEY: {key}')\n",
    "#     for column, value in data.items():\n",
    "#         print(f'\\tCOLUMN: {column} VALUE: {value}')"
   ]
  },
  {
   "cell_type": "code",
   "execution_count": 60,
   "id": "a922ef32-4495-4d92-9746-dea0e25df262",
   "metadata": {},
   "outputs": [],
   "source": [
    "import csv\n",
    "rows = table.scan()\n",
    "\n",
    "with open('matches_data.csv', mode='w', newline='', encoding='utf-8') as file:\n",
    "    csv_writer = csv.writer(file)\n",
    "\n",
    "    # Write the header (column names)\n",
    "    csv_writer.writerow(['row_key'] + ['column_family:column'])  # Adjust column names as needed\n",
    "\n",
    "    # Fetch and write each row\n",
    "    for row_key, row_data in table.scan():\n",
    "        # Prepare a row with the row key and column values\n",
    "        row = [row_key.decode()]  # Decode the row key\n",
    "        for column, value in row_data.items():\n",
    "            row.append(value.decode())  # Decode column values\n",
    "\n",
    "        # Write the row to the CSV file\n",
    "        csv_writer.writerow(row)\n",
    "\n",
    "# Close the connection\n",
    "connection.close()"
   ]
  }
 ],
 "metadata": {
  "kernelspec": {
   "display_name": "Python 3",
   "language": "python",
   "name": "python3"
  },
  "language_info": {
   "codemirror_mode": {
    "name": "ipython",
    "version": 3
   },
   "file_extension": ".py",
   "mimetype": "text/x-python",
   "name": "python",
   "nbconvert_exporter": "python",
   "pygments_lexer": "ipython3",
   "version": "3.8.8"
  }
 },
 "nbformat": 4,
 "nbformat_minor": 5
}
